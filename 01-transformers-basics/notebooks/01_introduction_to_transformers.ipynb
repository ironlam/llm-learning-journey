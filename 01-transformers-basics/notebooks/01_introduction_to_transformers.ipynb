{
 "cells": [
  {
   "cell_type": "markdown",
   "metadata": {},
   "source": [
    "# Introduction aux Transformers avec Hugging Face\n",
    "\n",
    "Ce notebook constitue mon premier pas dans l'apprentissage des modèles de Transformers avec la bibliothèque Hugging Face. Il explore les concepts fondamentaux et présente quelques exemples d'utilisation pratique.\n",
    "\n",
    "## Objectifs\n",
    "- Comprendre l'architecture des modèles Transformers\n",
    "- Explorer la bibliothèque Hugging Face\n",
    "- Apprendre à utiliser des modèles pré-entraînés pour des tâches simples\n"
   ]
  },
  {
   "cell_type": "markdown",
   "metadata": {},
   "source": [
    "## 1. Installation des bibliothèques nécessaires"
   ]
  },
  {
   "cell_type": "code",
   "metadata": {
    "ExecuteTime": {
     "end_time": "2025-03-10T21:05:24.377593Z",
     "start_time": "2025-03-10T21:05:23.459214Z"
    }
   },
   "source": [
    "# Installation des packages nécessaires\n",
    "!pip install transformers datasets evaluate torch tiktoken protobuf sentencepiece"
   ],
   "outputs": [
    {
     "name": "stdout",
     "output_type": "stream",
     "text": [
      "Requirement already satisfied: transformers in /home/ldiaby/projects/llm-learning-journey/.venv/lib/python3.10/site-packages (4.49.0)\r\n",
      "Requirement already satisfied: datasets in /home/ldiaby/projects/llm-learning-journey/.venv/lib/python3.10/site-packages (3.3.2)\r\n",
      "Requirement already satisfied: evaluate in /home/ldiaby/projects/llm-learning-journey/.venv/lib/python3.10/site-packages (0.4.3)\r\n",
      "Requirement already satisfied: torch in /home/ldiaby/projects/llm-learning-journey/.venv/lib/python3.10/site-packages (2.6.0)\r\n",
      "Requirement already satisfied: tiktoken in /home/ldiaby/projects/llm-learning-journey/.venv/lib/python3.10/site-packages (0.9.0)\r\n",
      "Requirement already satisfied: protobuf in /home/ldiaby/projects/llm-learning-journey/.venv/lib/python3.10/site-packages (6.30.0)\r\n",
      "Requirement already satisfied: sentencepiece in /home/ldiaby/projects/llm-learning-journey/.venv/lib/python3.10/site-packages (0.2.0)\r\n",
      "Requirement already satisfied: filelock in /home/ldiaby/projects/llm-learning-journey/.venv/lib/python3.10/site-packages (from transformers) (3.17.0)\r\n",
      "Requirement already satisfied: huggingface-hub<1.0,>=0.26.0 in /home/ldiaby/projects/llm-learning-journey/.venv/lib/python3.10/site-packages (from transformers) (0.29.2)\r\n",
      "Requirement already satisfied: numpy>=1.17 in /home/ldiaby/projects/llm-learning-journey/.venv/lib/python3.10/site-packages (from transformers) (2.2.3)\r\n",
      "Requirement already satisfied: packaging>=20.0 in /home/ldiaby/projects/llm-learning-journey/.venv/lib/python3.10/site-packages (from transformers) (24.2)\r\n",
      "Requirement already satisfied: pyyaml>=5.1 in /home/ldiaby/projects/llm-learning-journey/.venv/lib/python3.10/site-packages (from transformers) (6.0.2)\r\n",
      "Requirement already satisfied: regex!=2019.12.17 in /home/ldiaby/projects/llm-learning-journey/.venv/lib/python3.10/site-packages (from transformers) (2024.11.6)\r\n",
      "Requirement already satisfied: requests in /home/ldiaby/projects/llm-learning-journey/.venv/lib/python3.10/site-packages (from transformers) (2.32.3)\r\n",
      "Requirement already satisfied: tokenizers<0.22,>=0.21 in /home/ldiaby/projects/llm-learning-journey/.venv/lib/python3.10/site-packages (from transformers) (0.21.0)\r\n",
      "Requirement already satisfied: safetensors>=0.4.1 in /home/ldiaby/projects/llm-learning-journey/.venv/lib/python3.10/site-packages (from transformers) (0.5.3)\r\n",
      "Requirement already satisfied: tqdm>=4.27 in /home/ldiaby/projects/llm-learning-journey/.venv/lib/python3.10/site-packages (from transformers) (4.67.1)\r\n",
      "Requirement already satisfied: pyarrow>=15.0.0 in /home/ldiaby/projects/llm-learning-journey/.venv/lib/python3.10/site-packages (from datasets) (19.0.1)\r\n",
      "Requirement already satisfied: dill<0.3.9,>=0.3.0 in /home/ldiaby/projects/llm-learning-journey/.venv/lib/python3.10/site-packages (from datasets) (0.3.8)\r\n",
      "Requirement already satisfied: pandas in /home/ldiaby/projects/llm-learning-journey/.venv/lib/python3.10/site-packages (from datasets) (2.2.3)\r\n",
      "Requirement already satisfied: xxhash in /home/ldiaby/projects/llm-learning-journey/.venv/lib/python3.10/site-packages (from datasets) (3.5.0)\r\n",
      "Requirement already satisfied: multiprocess<0.70.17 in /home/ldiaby/projects/llm-learning-journey/.venv/lib/python3.10/site-packages (from datasets) (0.70.16)\r\n",
      "Requirement already satisfied: fsspec<=2024.12.0,>=2023.1.0 in /home/ldiaby/projects/llm-learning-journey/.venv/lib/python3.10/site-packages (from fsspec[http]<=2024.12.0,>=2023.1.0->datasets) (2024.12.0)\r\n",
      "Requirement already satisfied: aiohttp in /home/ldiaby/projects/llm-learning-journey/.venv/lib/python3.10/site-packages (from datasets) (3.11.13)\r\n",
      "Requirement already satisfied: typing-extensions>=4.10.0 in /home/ldiaby/projects/llm-learning-journey/.venv/lib/python3.10/site-packages (from torch) (4.12.2)\r\n",
      "Requirement already satisfied: networkx in /home/ldiaby/projects/llm-learning-journey/.venv/lib/python3.10/site-packages (from torch) (3.4.2)\r\n",
      "Requirement already satisfied: jinja2 in /home/ldiaby/projects/llm-learning-journey/.venv/lib/python3.10/site-packages (from torch) (3.1.6)\r\n",
      "Requirement already satisfied: nvidia-cuda-nvrtc-cu12==12.4.127 in /home/ldiaby/projects/llm-learning-journey/.venv/lib/python3.10/site-packages (from torch) (12.4.127)\r\n",
      "Requirement already satisfied: nvidia-cuda-runtime-cu12==12.4.127 in /home/ldiaby/projects/llm-learning-journey/.venv/lib/python3.10/site-packages (from torch) (12.4.127)\r\n",
      "Requirement already satisfied: nvidia-cuda-cupti-cu12==12.4.127 in /home/ldiaby/projects/llm-learning-journey/.venv/lib/python3.10/site-packages (from torch) (12.4.127)\r\n",
      "Requirement already satisfied: nvidia-cudnn-cu12==9.1.0.70 in /home/ldiaby/projects/llm-learning-journey/.venv/lib/python3.10/site-packages (from torch) (9.1.0.70)\r\n",
      "Requirement already satisfied: nvidia-cublas-cu12==12.4.5.8 in /home/ldiaby/projects/llm-learning-journey/.venv/lib/python3.10/site-packages (from torch) (12.4.5.8)\r\n",
      "Requirement already satisfied: nvidia-cufft-cu12==11.2.1.3 in /home/ldiaby/projects/llm-learning-journey/.venv/lib/python3.10/site-packages (from torch) (11.2.1.3)\r\n",
      "Requirement already satisfied: nvidia-curand-cu12==10.3.5.147 in /home/ldiaby/projects/llm-learning-journey/.venv/lib/python3.10/site-packages (from torch) (10.3.5.147)\r\n",
      "Requirement already satisfied: nvidia-cusolver-cu12==11.6.1.9 in /home/ldiaby/projects/llm-learning-journey/.venv/lib/python3.10/site-packages (from torch) (11.6.1.9)\r\n",
      "Requirement already satisfied: nvidia-cusparse-cu12==12.3.1.170 in /home/ldiaby/projects/llm-learning-journey/.venv/lib/python3.10/site-packages (from torch) (12.3.1.170)\r\n",
      "Requirement already satisfied: nvidia-cusparselt-cu12==0.6.2 in /home/ldiaby/projects/llm-learning-journey/.venv/lib/python3.10/site-packages (from torch) (0.6.2)\r\n",
      "Requirement already satisfied: nvidia-nccl-cu12==2.21.5 in /home/ldiaby/projects/llm-learning-journey/.venv/lib/python3.10/site-packages (from torch) (2.21.5)\r\n",
      "Requirement already satisfied: nvidia-nvtx-cu12==12.4.127 in /home/ldiaby/projects/llm-learning-journey/.venv/lib/python3.10/site-packages (from torch) (12.4.127)\r\n",
      "Requirement already satisfied: nvidia-nvjitlink-cu12==12.4.127 in /home/ldiaby/projects/llm-learning-journey/.venv/lib/python3.10/site-packages (from torch) (12.4.127)\r\n",
      "Requirement already satisfied: triton==3.2.0 in /home/ldiaby/projects/llm-learning-journey/.venv/lib/python3.10/site-packages (from torch) (3.2.0)\r\n",
      "Requirement already satisfied: sympy==1.13.1 in /home/ldiaby/projects/llm-learning-journey/.venv/lib/python3.10/site-packages (from torch) (1.13.1)\r\n",
      "Requirement already satisfied: mpmath<1.4,>=1.1.0 in /home/ldiaby/projects/llm-learning-journey/.venv/lib/python3.10/site-packages (from sympy==1.13.1->torch) (1.3.0)\r\n",
      "Requirement already satisfied: aiohappyeyeballs>=2.3.0 in /home/ldiaby/projects/llm-learning-journey/.venv/lib/python3.10/site-packages (from aiohttp->datasets) (2.5.0)\r\n",
      "Requirement already satisfied: aiosignal>=1.1.2 in /home/ldiaby/projects/llm-learning-journey/.venv/lib/python3.10/site-packages (from aiohttp->datasets) (1.3.2)\r\n",
      "Requirement already satisfied: async-timeout<6.0,>=4.0 in /home/ldiaby/projects/llm-learning-journey/.venv/lib/python3.10/site-packages (from aiohttp->datasets) (5.0.1)\r\n",
      "Requirement already satisfied: attrs>=17.3.0 in /home/ldiaby/projects/llm-learning-journey/.venv/lib/python3.10/site-packages (from aiohttp->datasets) (25.1.0)\r\n",
      "Requirement already satisfied: frozenlist>=1.1.1 in /home/ldiaby/projects/llm-learning-journey/.venv/lib/python3.10/site-packages (from aiohttp->datasets) (1.5.0)\r\n",
      "Requirement already satisfied: multidict<7.0,>=4.5 in /home/ldiaby/projects/llm-learning-journey/.venv/lib/python3.10/site-packages (from aiohttp->datasets) (6.1.0)\r\n",
      "Requirement already satisfied: propcache>=0.2.0 in /home/ldiaby/projects/llm-learning-journey/.venv/lib/python3.10/site-packages (from aiohttp->datasets) (0.3.0)\r\n",
      "Requirement already satisfied: yarl<2.0,>=1.17.0 in /home/ldiaby/projects/llm-learning-journey/.venv/lib/python3.10/site-packages (from aiohttp->datasets) (1.18.3)\r\n",
      "Requirement already satisfied: charset-normalizer<4,>=2 in /home/ldiaby/projects/llm-learning-journey/.venv/lib/python3.10/site-packages (from requests->transformers) (3.4.1)\r\n",
      "Requirement already satisfied: idna<4,>=2.5 in /home/ldiaby/projects/llm-learning-journey/.venv/lib/python3.10/site-packages (from requests->transformers) (3.10)\r\n",
      "Requirement already satisfied: urllib3<3,>=1.21.1 in /home/ldiaby/projects/llm-learning-journey/.venv/lib/python3.10/site-packages (from requests->transformers) (2.3.0)\r\n",
      "Requirement already satisfied: certifi>=2017.4.17 in /home/ldiaby/projects/llm-learning-journey/.venv/lib/python3.10/site-packages (from requests->transformers) (2025.1.31)\r\n",
      "Requirement already satisfied: MarkupSafe>=2.0 in /home/ldiaby/projects/llm-learning-journey/.venv/lib/python3.10/site-packages (from jinja2->torch) (2.1.5)\r\n",
      "Requirement already satisfied: python-dateutil>=2.8.2 in /home/ldiaby/projects/llm-learning-journey/.venv/lib/python3.10/site-packages (from pandas->datasets) (2.9.0.post0)\r\n",
      "Requirement already satisfied: pytz>=2020.1 in /home/ldiaby/projects/llm-learning-journey/.venv/lib/python3.10/site-packages (from pandas->datasets) (2025.1)\r\n",
      "Requirement already satisfied: tzdata>=2022.7 in /home/ldiaby/projects/llm-learning-journey/.venv/lib/python3.10/site-packages (from pandas->datasets) (2025.1)\r\n",
      "Requirement already satisfied: six>=1.5 in /home/ldiaby/projects/llm-learning-journey/.venv/lib/python3.10/site-packages (from python-dateutil>=2.8.2->pandas->datasets) (1.17.0)\r\n"
     ]
    }
   ],
   "execution_count": 2
  },
  {
   "cell_type": "markdown",
   "metadata": {},
   "source": [
    "## 2. Importation des bibliothèques"
   ]
  },
  {
   "cell_type": "code",
   "metadata": {
    "ExecuteTime": {
     "end_time": "2025-03-10T21:05:33.242243Z",
     "start_time": "2025-03-10T21:05:29.801509Z"
    }
   },
   "source": [
    "import torch\n",
    "from transformers import AutoTokenizer, AutoModel, pipeline\n",
    "import numpy as np\n",
    "import matplotlib.pyplot as plt"
   ],
   "outputs": [],
   "execution_count": 3
  },
  {
   "cell_type": "markdown",
   "metadata": {},
   "source": [
    "## 3. Les pipelines : une façon simple d'utiliser les modèles pré-entraînés\n",
    "\n",
    "Les pipelines sont la façon la plus simple d'utiliser les modèles pré-entraînés pour les tâches courantes de NLP."
   ]
  },
  {
   "cell_type": "code",
   "metadata": {
    "ExecuteTime": {
     "end_time": "2025-03-10T22:01:26.212501Z",
     "start_time": "2025-03-10T22:01:25.630932Z"
    }
   },
   "source": [
    "# Exemple 1 : Analyse de sentiment\n",
    "# Utilisons un modèle spécifique pour le français\n",
    "sentiment_analyzer = pipeline(\"sentiment-analysis\", model=\"nlptown/bert-base-multilingual-uncased-sentiment\")\n",
    "\n",
    "# Testons avec quelques phrases\n",
    "texts = [\n",
    "    \"J'ai adoré cet article, il est très bien écrit et informatif.\",\n",
    "    \"Ce contenu est décevant et ne répond pas à mes attentes.\",\n",
    "    \"L'article est intéressant mais manque de profondeur sur certains aspects.\"\n",
    "]\n",
    "\n",
    "for text in texts:\n",
    "    result = sentiment_analyzer(text)[0]\n",
    "    print(f\"Texte: {text}\")\n",
    "    print(f\"Sentiment: {result['label']}, Score: {result['score']:.4f}\\n\")"
   ],
   "outputs": [
    {
     "name": "stderr",
     "output_type": "stream",
     "text": [
      "Device set to use cpu\n"
     ]
    },
    {
     "name": "stdout",
     "output_type": "stream",
     "text": [
      "Texte: J'ai adoré cet article, il est très bien écrit et informatif.\n",
      "Sentiment: 5 stars, Score: 0.6765\n",
      "\n",
      "Texte: Ce contenu est décevant et ne répond pas à mes attentes.\n",
      "Sentiment: 1 star, Score: 0.4913\n",
      "\n",
      "Texte: L'article est intéressant mais manque de profondeur sur certains aspects.\n",
      "Sentiment: 3 stars, Score: 0.7248\n",
      "\n"
     ]
    }
   ],
   "execution_count": 9
  },
  {
   "cell_type": "code",
   "metadata": {
    "ExecuteTime": {
     "end_time": "2025-03-10T22:00:10.291655Z",
     "start_time": "2025-03-10T22:00:05.641242Z"
    }
   },
   "source": [
    "# Exemple 2 : Génération de texte\n",
    "# Utilisons un modèle spécifique pour le français\n",
    "text_generator = pipeline(\"text-generation\", model=\"bigscience/bloom-560m\")\n",
    "\n",
    "prompt = \"Dans le monde des médias numériques, l'intelligence artificielle\"\n",
    "generated_text = text_generator(\n",
    "    prompt,\n",
    "    max_length=50,\n",
    "    num_return_sequences=1,\n",
    "    truncation=True,\n",
    "    # Paramètres pour réduire les répétitions\n",
    "    no_repeat_ngram_size=2,\n",
    "    repetition_penalty=1.5,\n",
    "    temperature=0.7\n",
    ")\n",
    "print(\"Texte généré:\")\n",
    "print(generated_text[0]['generated_text'])"
   ],
   "outputs": [
    {
     "name": "stderr",
     "output_type": "stream",
     "text": [
      "Device set to use cpu\n",
      "/home/ldiaby/projects/llm-learning-journey/.venv/lib/python3.10/site-packages/transformers/generation/configuration_utils.py:629: UserWarning: `do_sample` is set to `False`. However, `temperature` is set to `0.7` -- this flag is only used in sample-based generation modes. You should set `do_sample=True` or unset `temperature`.\n",
      "  warnings.warn(\n"
     ]
    },
    {
     "name": "stdout",
     "output_type": "stream",
     "text": [
      "Texte généré:\n",
      "Dans le monde des médias numériques, l'intelligence artificielle est devenue une réalité. Elle permet de transformer les données en informations pertinentes et utiles pour la prise d'initiatives.\n",
      "La technologie blockchain a été développée par un groupe d'industriels américains qui ont créé leur propre\n"
     ]
    }
   ],
   "execution_count": 8
  },
  {
   "cell_type": "code",
   "metadata": {
    "ExecuteTime": {
     "end_time": "2025-03-10T21:05:51.186754Z",
     "start_time": "2025-03-10T21:05:38.253214Z"
    }
   },
   "source": [
    "# Exemple 3 : Question-Réponse avec un modèle multilingue\n",
    "# Utilisons un modèle plus simple qui fonctionne bien avec le français\n",
    "qa_pipeline = pipeline(\n",
    "    \"question-answering\",\n",
    "    model=\"deepset/xlm-roberta-base-squad2\"  # Modèle multilingue qui supporte le français\n",
    ")\n",
    "\n",
    "context = \"\"\"\n",
    "Le Figaro est un journal français fondé en 1826 sous le règne de Charles X. \n",
    "Il est à ce titre le plus ancien quotidien français encore publié. \n",
    "Il a été nommé d'après le personnage de Figaro, protagoniste du Barbier de Séville et \n",
    "du Mariage de Figaro de Beaumarchais. En 2022, Le Figaro est le premier quotidien national \n",
    "en termes de diffusion, avec 370 000 exemplaires diffusés par jour en moyenne.\n",
    "\"\"\"\n",
    "\n",
    "questions = [\n",
    "    \"Quand a été fondé Le Figaro ?\",\n",
    "    \"D'où vient le nom du journal ?\",\n",
    "    \"Quel est le tirage quotidien du Figaro en 2022 ?\"\n",
    "]\n",
    "\n",
    "for question in questions:\n",
    "    result = qa_pipeline(question=question, context=context)\n",
    "    print(f\"Question: {question}\")\n",
    "    print(f\"Réponse: {result['answer']}\")\n",
    "    print(f\"Score: {result['score']:.4f}\\n\")"
   ],
   "outputs": [
    {
     "data": {
      "text/plain": [
       "config.json:   0%|          | 0.00/605 [00:00<?, ?B/s]"
      ],
      "application/vnd.jupyter.widget-view+json": {
       "version_major": 2,
       "version_minor": 0,
       "model_id": "69da34e0b84642709ad9bc795bacced2"
      }
     },
     "metadata": {},
     "output_type": "display_data"
    },
    {
     "data": {
      "text/plain": [
       "model.safetensors:   0%|          | 0.00/1.11G [00:00<?, ?B/s]"
      ],
      "application/vnd.jupyter.widget-view+json": {
       "version_major": 2,
       "version_minor": 0,
       "model_id": "3253a066711d496f8f169465243fce29"
      }
     },
     "metadata": {},
     "output_type": "display_data"
    },
    {
     "data": {
      "text/plain": [
       "tokenizer_config.json:   0%|          | 0.00/79.0 [00:00<?, ?B/s]"
      ],
      "application/vnd.jupyter.widget-view+json": {
       "version_major": 2,
       "version_minor": 0,
       "model_id": "a806c031fad24309adf8587921ed0e02"
      }
     },
     "metadata": {},
     "output_type": "display_data"
    },
    {
     "data": {
      "text/plain": [
       "sentencepiece.bpe.model:   0%|          | 0.00/5.07M [00:00<?, ?B/s]"
      ],
      "application/vnd.jupyter.widget-view+json": {
       "version_major": 2,
       "version_minor": 0,
       "model_id": "ea827019a91b4c8090e7fafc9809d94b"
      }
     },
     "metadata": {},
     "output_type": "display_data"
    },
    {
     "data": {
      "text/plain": [
       "special_tokens_map.json:   0%|          | 0.00/150 [00:00<?, ?B/s]"
      ],
      "application/vnd.jupyter.widget-view+json": {
       "version_major": 2,
       "version_minor": 0,
       "model_id": "740147e18f144213ac4b882731605ac8"
      }
     },
     "metadata": {},
     "output_type": "display_data"
    },
    {
     "name": "stderr",
     "output_type": "stream",
     "text": [
      "Device set to use cpu\n"
     ]
    },
    {
     "name": "stdout",
     "output_type": "stream",
     "text": [
      "Question: Quand a été fondé Le Figaro ?\n",
      "Réponse:  1826\n",
      "Score: 0.9375\n",
      "\n",
      "Question: D'où vient le nom du journal ?\n",
      "Réponse:  le personnage de Figaro,\n",
      "Score: 0.2730\n",
      "\n",
      "Question: Quel est le tirage quotidien du Figaro en 2022 ?\n",
      "Réponse:  370 000 exemplaires\n",
      "Score: 0.3407\n",
      "\n"
     ]
    }
   ],
   "execution_count": 4
  },
  {
   "cell_type": "markdown",
   "metadata": {},
   "source": [
    "## 4. Comprendre les tokenizers\n",
    "\n",
    "Les tokenizers sont essentiels dans le traitement du langage naturel. Ils convertissent le texte en tokens qui peuvent être traités par les modèles."
   ]
  },
  {
   "cell_type": "code",
   "metadata": {
    "ExecuteTime": {
     "end_time": "2025-03-10T21:11:56.755515Z",
     "start_time": "2025-03-10T21:11:54.679598Z"
    }
   },
   "source": [
    "# Chargement d'un tokenizer adapté au français\n",
    "tokenizer = AutoTokenizer.from_pretrained(\"camembert-base\")\n",
    "\n",
    "# Tokenization d'une phrase en français\n",
    "text = \"Comment les modèles de langage transforment-ils l'industrie des médias ?\"\n",
    "encoded_input = tokenizer(text, return_tensors=\"pt\")\n",
    "\n",
    "print(\"Input IDs (représentation numérique des tokens):\")\n",
    "print(encoded_input[\"input_ids\"])\n",
    "\n",
    "print(\"\\nTokens décodés:\")\n",
    "tokens = tokenizer.convert_ids_to_tokens(encoded_input[\"input_ids\"][0])\n",
    "print(tokens)"
   ],
   "outputs": [
    {
     "data": {
      "text/plain": [
       "tokenizer_config.json:   0%|          | 0.00/25.0 [00:00<?, ?B/s]"
      ],
      "application/vnd.jupyter.widget-view+json": {
       "version_major": 2,
       "version_minor": 0,
       "model_id": "1b376af106f24d9cbfd3f5afa2119b9a"
      }
     },
     "metadata": {},
     "output_type": "display_data"
    },
    {
     "data": {
      "text/plain": [
       "config.json:   0%|          | 0.00/508 [00:00<?, ?B/s]"
      ],
      "application/vnd.jupyter.widget-view+json": {
       "version_major": 2,
       "version_minor": 0,
       "model_id": "1d224b586d80456db38e334e3d15229c"
      }
     },
     "metadata": {},
     "output_type": "display_data"
    },
    {
     "data": {
      "text/plain": [
       "sentencepiece.bpe.model:   0%|          | 0.00/811k [00:00<?, ?B/s]"
      ],
      "application/vnd.jupyter.widget-view+json": {
       "version_major": 2,
       "version_minor": 0,
       "model_id": "c12e4de92e4443fda3ba747547f56d89"
      }
     },
     "metadata": {},
     "output_type": "display_data"
    },
    {
     "data": {
      "text/plain": [
       "tokenizer.json:   0%|          | 0.00/1.40M [00:00<?, ?B/s]"
      ],
      "application/vnd.jupyter.widget-view+json": {
       "version_major": 2,
       "version_minor": 0,
       "model_id": "4755cc1b7bfd4f4fba863384caf51daa"
      }
     },
     "metadata": {},
     "output_type": "display_data"
    },
    {
     "name": "stdout",
     "output_type": "stream",
     "text": [
      "Input IDs (représentation numérique des tokens):\n",
      "tensor([[    5,   841,    19,  1501,     8,  3015, 21981,    26,   240,    17,\n",
      "            11,  2297,    20,  1729,   106,     6]])\n",
      "\n",
      "Tokens décodés:\n",
      "['<s>', '▁Comment', '▁les', '▁modèles', '▁de', '▁langage', '▁transforment', '-', 'ils', '▁l', \"'\", 'industrie', '▁des', '▁médias', '▁?', '</s>']\n"
     ]
    }
   ],
   "execution_count": 5
  },
  {
   "cell_type": "markdown",
   "metadata": {},
   "source": [
    "## 5. Explorer les embeddings des modèles\n",
    "\n",
    "Les embeddings sont des représentations vectorielles des mots ou phrases qui capturent leur signification sémantique."
   ]
  },
  {
   "cell_type": "code",
   "metadata": {
    "ExecuteTime": {
     "end_time": "2025-03-10T21:12:14.661375Z",
     "start_time": "2025-03-10T21:12:10.966589Z"
    }
   },
   "source": [
    "# Chargement d'un modèle adapté au français\n",
    "model = AutoModel.from_pretrained(\"camembert-base\")\n",
    "\n",
    "# Générer des embeddings pour quelques phrases en français\n",
    "sentences = [\n",
    "    \"Les articles de presse doivent être informatifs.\",\n",
    "    \"Le journalisme nécessite de l'objectivité.\",\n",
    "    \"Les médias numériques transforment l'industrie de la presse.\",\n",
    "    \"La technologie change notre façon de consommer l'information.\",\n",
    "    \"Les chats sont des animaux domestiques populaires.\"\n",
    "]\n",
    "\n",
    "# Fonction pour obtenir les embeddings d'une phrase\n",
    "def get_embedding(sentence):\n",
    "    inputs = tokenizer(sentence, return_tensors=\"pt\", padding=True, truncation=True)\n",
    "    with torch.no_grad():\n",
    "        outputs = model(**inputs)\n",
    "    # Utiliser l'embedding du token [CLS] comme représentation de la phrase\n",
    "    return outputs.last_hidden_state[:, 0, :].numpy()\n",
    "\n",
    "# Calculer les embeddings\n",
    "embeddings = [get_embedding(sentence) for sentence in sentences]\n",
    "embeddings = [embedding.flatten() for embedding in embeddings]"
   ],
   "outputs": [
    {
     "data": {
      "text/plain": [
       "model.safetensors:   0%|          | 0.00/445M [00:00<?, ?B/s]"
      ],
      "application/vnd.jupyter.widget-view+json": {
       "version_major": 2,
       "version_minor": 0,
       "model_id": "7b3affec8b544c8ab6401db3457309b9"
      }
     },
     "metadata": {},
     "output_type": "display_data"
    }
   ],
   "execution_count": 6
  },
  {
   "cell_type": "code",
   "metadata": {
    "ExecuteTime": {
     "end_time": "2025-03-10T21:12:27.424113Z",
     "start_time": "2025-03-10T21:12:27.300477Z"
    }
   },
   "source": [
    "# Calculer la similarité cosinus entre les embeddings\n",
    "from sklearn.metrics.pairwise import cosine_similarity\n",
    "\n",
    "similarity_matrix = cosine_similarity(embeddings)\n",
    "\n",
    "# Afficher la matrice de similarité\n",
    "plt.figure(figsize=(10, 8))\n",
    "plt.imshow(similarity_matrix, cmap='viridis', interpolation='nearest')\n",
    "plt.colorbar()\n",
    "plt.title('Similarité cosinus entre les phrases')\n",
    "plt.xticks(range(len(sentences)), [f\"Phrase {i+1}\" for i in range(len(sentences))], rotation=45)\n",
    "plt.yticks(range(len(sentences)), [f\"Phrase {i+1}\" for i in range(len(sentences))])\n",
    "plt.tight_layout()\n",
    "plt.show()\n",
    "\n",
    "# Afficher les phrases et leurs similarités\n",
    "for i, sentence1 in enumerate(sentences):\n",
    "    print(f\"Phrase {i+1}: {sentence1}\")\n",
    "    \n",
    "print(\"\\nMatrice de similarité:\")\n",
    "for i, sentence1 in enumerate(sentences):\n",
    "    for j, sentence2 in enumerate(sentences):\n",
    "        if i < j:  # Pour éviter les duplications\n",
    "            print(f\"Similarité entre Phrase {i+1} et Phrase {j+1}: {similarity_matrix[i][j]:.4f}\")"
   ],
   "outputs": [
    {
     "data": {
      "text/plain": [
       "<Figure size 1000x800 with 2 Axes>"
      ],
      "image/png": "[encoded data removed]"
     },
     "metadata": {},
     "output_type": "display_data"
    },
    {
     "name": "stdout",
     "output_type": "stream",
     "text": [
      "Phrase 1: Les articles de presse doivent être informatifs.\n",
      "Phrase 2: Le journalisme nécessite de l'objectivité.\n",
      "Phrase 3: Les médias numériques transforment l'industrie de la presse.\n",
      "Phrase 4: La technologie change notre façon de consommer l'information.\n",
      "Phrase 5: Les chats sont des animaux domestiques populaires.\n",
      "\n",
      "Matrice de similarité:\n",
      "Similarité entre Phrase 1 et Phrase 2: 0.9753\n",
      "Similarité entre Phrase 1 et Phrase 3: 0.9722\n",
      "Similarité entre Phrase 1 et Phrase 4: 0.9588\n",
      "Similarité entre Phrase 1 et Phrase 5: 0.9658\n",
      "Similarité entre Phrase 2 et Phrase 3: 0.9785\n",
      "Similarité entre Phrase 2 et Phrase 4: 0.9761\n",
      "Similarité entre Phrase 2 et Phrase 5: 0.9481\n",
      "Similarité entre Phrase 3 et Phrase 4: 0.9862\n",
      "Similarité entre Phrase 3 et Phrase 5: 0.9518\n",
      "Similarité entre Phrase 4 et Phrase 5: 0.9422\n"
     ]
    }
   ],
   "execution_count": 7
  },
  {
   "cell_type": "markdown",
   "metadata": {},
   "source": [
    "## 6. Conclusion et Réflexions\n",
    "\n",
    "Dans ce notebook, j'ai exploré les bases des Transformers avec Hugging Face, en me concentrant particulièrement sur l'utilisation de modèles adaptés au français. J'ai pu utiliser des pipelines pour diverses tâches de NLP, comprendre le fonctionnement des tokenizers et explorer les embeddings générés par ces modèles.\n",
    "\n",
    "### Ce que j'ai appris :\n",
    "- Les pipelines facilitent grandement l'utilisation des modèles pré-entraînés\n",
    "- Il est important de choisir des modèles adaptés à la langue traitée (français dans ce cas)\n",
    "- Les tokenizers jouent un rôle crucial dans la conversion du texte en données numériques\n",
    "- Les embeddings capturent la sémantique des phrases, permettant de mesurer leur similarité\n",
    "\n",
    "### Prochaines étapes :\n",
    "- Explorer la classification de texte avec les Transformers\n",
    "- Apprendre à fine-tuner des modèles pour des tâches spécifiques\n",
    "- Approfondir ma compréhension de l'architecture des Transformers\n",
    "- Explorer davantage les modèles spécifiques au français comme CamemBERT\n",
    "\n",
    "Ce notebook marque le début de mon parcours d'apprentissage des LLM, et je suis impatient de continuer à explorer ce domaine fascinant."
   ]
  }
 ],
 "metadata": {
  "kernelspec": {
   "display_name": "Python 3",
   "language": "python",
   "name": "python3"
  },
  "language_info": {
   "codemirror_mode": {
    "name": "ipython",
    "version": 3
   },
   "file_extension": ".py",
   "mimetype": "text/x-python",
   "name": "python",
   "nbconvert_exporter": "python",
   "pygments_lexer": "ipython3",
   "version": "3.8.8"
  }
 },
 "nbformat": 4,
 "nbformat_minor": 4
}
