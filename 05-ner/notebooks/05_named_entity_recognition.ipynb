{
 "cells": [
  {
   "cell_type": "markdown",
   "id": "75556d93",
   "metadata": {},
   "source": [
    "# Atelier LLM #3 — NER en français avec Hugging Face\n",
    "\n",
    "Notebook accompagnant l'article Medium et le dépôt *llm-learning-journey*. Il illustre l'usage de CamemBERT fine-tuné pour la reconnaissance d'entités nommées (NER)."
   ]
  },
  {
   "cell_type": "code",
   "id": "7f85855c",
   "metadata": {
    "ExecuteTime": {
     "end_time": "2025-09-01T12:41:35.113205Z",
     "start_time": "2025-09-01T12:41:32.507546Z"
    }
   },
   "source": [
    "# !pip install -U transformers datasets torch\n",
    "from transformers import pipeline\n",
    "from typing import List, Dict\n",
    "import pandas as pd"
   ],
   "outputs": [],
   "execution_count": 1
  },
  {
   "cell_type": "code",
   "id": "5f47c1f7",
   "metadata": {
    "ExecuteTime": {
     "end_time": "2025-09-01T12:44:21.090224Z",
     "start_time": "2025-09-01T12:41:35.127890Z"
    }
   },
   "source": [
    "ner = pipeline(\n",
    "    task=\"ner\",\n",
    "    model=\"Jean-Baptiste/camembert-ner\",\n",
    "    aggregation_strategy=\"simple\",\n",
    ")\n",
    "\n",
    "sample_text = \"Le président Emmanuel Macron s'est rendu à Marseille pour discuter avec Orange et SFR.\"\n",
    "ner(sample_text)[:3]"
   ],
   "outputs": [
    {
     "data": {
      "text/plain": [
       "config.json:   0%|          | 0.00/892 [00:00<?, ?B/s]"
      ],
      "application/vnd.jupyter.widget-view+json": {
       "version_major": 2,
       "version_minor": 0,
       "model_id": "ed4758718a5e4b61ac2c46f33cb86e2b"
      }
     },
     "metadata": {},
     "output_type": "display_data",
     "jetTransient": {
      "display_id": null
     }
    },
    {
     "data": {
      "text/plain": [
       "model.safetensors:   0%|          | 0.00/440M [00:00<?, ?B/s]"
      ],
      "application/vnd.jupyter.widget-view+json": {
       "version_major": 2,
       "version_minor": 0,
       "model_id": "31d2f3936c864b1ba47f39c50c56cc81"
      }
     },
     "metadata": {},
     "output_type": "display_data",
     "jetTransient": {
      "display_id": null
     }
    },
    {
     "data": {
      "text/plain": [
       "tokenizer_config.json:   0%|          | 0.00/269 [00:00<?, ?B/s]"
      ],
      "application/vnd.jupyter.widget-view+json": {
       "version_major": 2,
       "version_minor": 0,
       "model_id": "29f4b3e67ae3404f9a7f7dbcecf713f7"
      }
     },
     "metadata": {},
     "output_type": "display_data",
     "jetTransient": {
      "display_id": null
     }
    },
    {
     "data": {
      "text/plain": [
       "sentencepiece.bpe.model:   0%|          | 0.00/811k [00:00<?, ?B/s]"
      ],
      "application/vnd.jupyter.widget-view+json": {
       "version_major": 2,
       "version_minor": 0,
       "model_id": "9c5788884fac439faef85a2f9b02d4a1"
      }
     },
     "metadata": {},
     "output_type": "display_data",
     "jetTransient": {
      "display_id": null
     }
    },
    {
     "data": {
      "text/plain": [
       "special_tokens_map.json:   0%|          | 0.00/210 [00:00<?, ?B/s]"
      ],
      "application/vnd.jupyter.widget-view+json": {
       "version_major": 2,
       "version_minor": 0,
       "model_id": "94c95c0138134f71b12662186acda04d"
      }
     },
     "metadata": {},
     "output_type": "display_data",
     "jetTransient": {
      "display_id": null
     }
    },
    {
     "name": "stderr",
     "output_type": "stream",
     "text": [
      "Device set to use cpu\n"
     ]
    },
    {
     "data": {
      "text/plain": [
       "[{'entity_group': 'PER',\n",
       "  'score': np.float32(0.9985533),\n",
       "  'word': 'Emmanuel Macron',\n",
       "  'start': 12,\n",
       "  'end': 28},\n",
       " {'entity_group': 'LOC',\n",
       "  'score': np.float32(0.99789125),\n",
       "  'word': 'Marseille',\n",
       "  'start': 42,\n",
       "  'end': 52},\n",
       " {'entity_group': 'ORG',\n",
       "  'score': np.float32(0.97817916),\n",
       "  'word': 'Orange',\n",
       "  'start': 71,\n",
       "  'end': 78}]"
      ]
     },
     "execution_count": 2,
     "metadata": {},
     "output_type": "execute_result"
    }
   ],
   "execution_count": 2
  },
  {
   "cell_type": "code",
   "id": "667f0511",
   "metadata": {
    "ExecuteTime": {
     "end_time": "2025-09-01T12:44:21.210089Z",
     "start_time": "2025-09-01T12:44:21.163069Z"
    }
   },
   "source": [
    "def pretty_entities(text: str, ents: List[Dict]):\n",
    "    print(f\"\\nTexte: {text}\")\n",
    "    for e in ents:\n",
    "        print(f\" - {e['word']}\\t({e['entity_group']})\\tscore={e['score']:.3f}\")\n",
    "\n",
    "pretty_entities(sample_text, ner(sample_text))"
   ],
   "outputs": [
    {
     "name": "stdout",
     "output_type": "stream",
     "text": [
      "\n",
      "Texte: Le président Emmanuel Macron s'est rendu à Marseille pour discuter avec Orange et SFR.\n",
      " - Emmanuel Macron\t(PER)\tscore=0.999\n",
      " - Marseille\t(LOC)\tscore=0.998\n",
      " - Orange\t(ORG)\tscore=0.978\n",
      " - SFR\t(ORG)\tscore=0.977\n"
     ]
    }
   ],
   "execution_count": 3
  },
  {
   "cell_type": "code",
   "id": "edd6b3fa",
   "metadata": {
    "ExecuteTime": {
     "end_time": "2025-09-01T12:44:21.307769Z",
     "start_time": "2025-09-01T12:44:21.215607Z"
    }
   },
   "source": [
    "comments = [\n",
    "    \"J'adore le service de Free à Lyon !\",\n",
    "    \"Le réseau SFR est catastrophique à Marseille...\",\n",
    "    \"Orange propose enfin la 5G à Paris.\",\n",
    "    \"Bouygues Telecom améliore ses offres.\"\n",
    "]\n",
    "\n",
    "for c in comments:\n",
    "    ents = ner(c)\n",
    "    pretty_entities(c, ents)"
   ],
   "outputs": [
    {
     "name": "stdout",
     "output_type": "stream",
     "text": [
      "\n",
      "Texte: J'adore le service de Free à Lyon !\n",
      " - Free\t(ORG)\tscore=0.986\n",
      " - Lyon\t(LOC)\tscore=0.992\n",
      "\n",
      "Texte: Le réseau SFR est catastrophique à Marseille...\n",
      " - SFR\t(ORG)\tscore=0.985\n",
      " - Marseille\t(LOC)\tscore=0.995\n",
      "\n",
      "Texte: Orange propose enfin la 5G à Paris.\n",
      " - Orange\t(ORG)\tscore=0.991\n",
      " - 5G\t(MISC)\tscore=0.797\n",
      " - Paris\t(LOC)\tscore=0.995\n",
      "\n",
      "Texte: Bouygues Telecom améliore ses offres.\n",
      " - Bouygues Telecom\t(ORG)\tscore=0.994\n"
     ]
    }
   ],
   "execution_count": 4
  },
  {
   "cell_type": "code",
   "id": "78e82b17",
   "metadata": {
    "ExecuteTime": {
     "end_time": "2025-09-01T13:44:54.086341Z",
     "start_time": "2025-09-01T13:23:00.513565Z"
    }
   },
   "source": [
    "from transformers import pipeline as hf_pipeline\n",
    "\n",
    "# NER (si tu l'utilises plus bas)\n",
    "ner = hf_pipeline(\n",
    "    \"ner\",\n",
    "    model=\"Jean-Baptiste/camembert-ner\",\n",
    "    aggregation_strategy=\"simple\"\n",
    ")\n",
    "\n",
    "# Sentiment (équivalent PT du tf-allocine)\n",
    "sentiment = hf_pipeline(\n",
    "    \"sentiment-analysis\",\n",
    "    model=\"philschmid/pt-tblard-tf-allocine\"  # <- fork PyTorch\n",
    "    # optionnel : device=0 si tu as un GPU CUDA\n",
    ")\n",
    "\n",
    "def entity_sentiment_rows(text: str):\n",
    "    ents = ner(text)\n",
    "    s = sentiment(text)[0]\n",
    "    return [\n",
    "        {\n",
    "            \"text\": text,\n",
    "            \"entity\": e[\"word\"],\n",
    "            \"label\": e[\"entity_group\"],\n",
    "            \"score\": float(e[\"score\"]),\n",
    "            \"sentiment_label\": s[\"label\"],\n",
    "            \"sentiment_score\": float(s[\"score\"]),\n",
    "        }\n",
    "        for e in ents\n",
    "    ]\n",
    "\n",
    "rows = []\n",
    "for c in comments:\n",
    "    rows.extend(entity_sentiment_rows(c))\n",
    "\n",
    "df = pd.DataFrame(rows)\n",
    "df.head()"
   ],
   "outputs": [
    {
     "name": "stderr",
     "output_type": "stream",
     "text": [
      "Device set to use cpu\n"
     ]
    },
    {
     "data": {
      "text/plain": [
       "config.json:   0%|          | 0.00/896 [00:00<?, ?B/s]"
      ],
      "application/vnd.jupyter.widget-view+json": {
       "version_major": 2,
       "version_minor": 0,
       "model_id": "155ab19b450f440187784312c42daa83"
      }
     },
     "metadata": {},
     "output_type": "display_data",
     "jetTransient": {
      "display_id": null
     }
    },
    {
     "data": {
      "text/plain": [
       "pytorch_model.bin:   0%|          | 0.00/443M [00:00<?, ?B/s]"
      ],
      "application/vnd.jupyter.widget-view+json": {
       "version_major": 2,
       "version_minor": 0,
       "model_id": "99535fe359ce4d3191fc98ae410266f2"
      }
     },
     "metadata": {},
     "output_type": "display_data",
     "jetTransient": {
      "display_id": null
     }
    },
    {
     "data": {
      "text/plain": [
       "tokenizer_config.json:   0%|          | 0.00/631 [00:00<?, ?B/s]"
      ],
      "application/vnd.jupyter.widget-view+json": {
       "version_major": 2,
       "version_minor": 0,
       "model_id": "9f246ba690f54d278d0562ad7a5f0d86"
      }
     },
     "metadata": {},
     "output_type": "display_data",
     "jetTransient": {
      "display_id": null
     }
    },
    {
     "data": {
      "text/plain": [
       "sentencepiece.bpe.model:   0%|          | 0.00/811k [00:00<?, ?B/s]"
      ],
      "application/vnd.jupyter.widget-view+json": {
       "version_major": 2,
       "version_minor": 0,
       "model_id": "c17e3150a37340a6a265a5c01c446029"
      }
     },
     "metadata": {},
     "output_type": "display_data",
     "jetTransient": {
      "display_id": null
     }
    },
    {
     "data": {
      "text/plain": [
       "tokenizer.json: 0.00B [00:00, ?B/s]"
      ],
      "application/vnd.jupyter.widget-view+json": {
       "version_major": 2,
       "version_minor": 0,
       "model_id": "fc86a8b7e9344c46908a168ef2846933"
      }
     },
     "metadata": {},
     "output_type": "display_data",
     "jetTransient": {
      "display_id": null
     }
    },
    {
     "data": {
      "text/plain": [
       "model.safetensors:   0%|          | 0.00/443M [00:00<?, ?B/s]"
      ],
      "application/vnd.jupyter.widget-view+json": {
       "version_major": 2,
       "version_minor": 0,
       "model_id": "8c05441bb8ca46bfb31ce1f9c1cc1387"
      }
     },
     "metadata": {},
     "output_type": "display_data",
     "jetTransient": {
      "display_id": null
     }
    },
    {
     "data": {
      "text/plain": [
       "special_tokens_map.json:   0%|          | 0.00/210 [00:00<?, ?B/s]"
      ],
      "application/vnd.jupyter.widget-view+json": {
       "version_major": 2,
       "version_minor": 0,
       "model_id": "ed4fbb5ca9e846068e69c6493f44f2fb"
      }
     },
     "metadata": {},
     "output_type": "display_data",
     "jetTransient": {
      "display_id": null
     }
    },
    {
     "name": "stderr",
     "output_type": "stream",
     "text": [
      "Device set to use cpu\n"
     ]
    },
    {
     "data": {
      "text/plain": [
       "                                              text     entity label     score  \\\n",
       "0              J'adore le service de Free à Lyon !       Free   ORG  0.985591   \n",
       "1              J'adore le service de Free à Lyon !       Lyon   LOC  0.991787   \n",
       "2  Le réseau SFR est catastrophique à Marseille...        SFR   ORG  0.984771   \n",
       "3  Le réseau SFR est catastrophique à Marseille...  Marseille   LOC  0.995413   \n",
       "4              Orange propose enfin la 5G à Paris.     Orange   ORG  0.990817   \n",
       "\n",
       "  sentiment_label  sentiment_score  \n",
       "0        POSITIVE         0.960610  \n",
       "1        POSITIVE         0.960610  \n",
       "2        NEGATIVE         0.955451  \n",
       "3        NEGATIVE         0.955451  \n",
       "4        POSITIVE         0.648676  "
      ],
      "text/html": [
       "<div>\n",
       "<style scoped>\n",
       "    .dataframe tbody tr th:only-of-type {\n",
       "        vertical-align: middle;\n",
       "    }\n",
       "\n",
       "    .dataframe tbody tr th {\n",
       "        vertical-align: top;\n",
       "    }\n",
       "\n",
       "    .dataframe thead th {\n",
       "        text-align: right;\n",
       "    }\n",
       "</style>\n",
       "<table border=\"1\" class=\"dataframe\">\n",
       "  <thead>\n",
       "    <tr style=\"text-align: right;\">\n",
       "      <th></th>\n",
       "      <th>text</th>\n",
       "      <th>entity</th>\n",
       "      <th>label</th>\n",
       "      <th>score</th>\n",
       "      <th>sentiment_label</th>\n",
       "      <th>sentiment_score</th>\n",
       "    </tr>\n",
       "  </thead>\n",
       "  <tbody>\n",
       "    <tr>\n",
       "      <th>0</th>\n",
       "      <td>J'adore le service de Free à Lyon !</td>\n",
       "      <td>Free</td>\n",
       "      <td>ORG</td>\n",
       "      <td>0.985591</td>\n",
       "      <td>POSITIVE</td>\n",
       "      <td>0.960610</td>\n",
       "    </tr>\n",
       "    <tr>\n",
       "      <th>1</th>\n",
       "      <td>J'adore le service de Free à Lyon !</td>\n",
       "      <td>Lyon</td>\n",
       "      <td>LOC</td>\n",
       "      <td>0.991787</td>\n",
       "      <td>POSITIVE</td>\n",
       "      <td>0.960610</td>\n",
       "    </tr>\n",
       "    <tr>\n",
       "      <th>2</th>\n",
       "      <td>Le réseau SFR est catastrophique à Marseille...</td>\n",
       "      <td>SFR</td>\n",
       "      <td>ORG</td>\n",
       "      <td>0.984771</td>\n",
       "      <td>NEGATIVE</td>\n",
       "      <td>0.955451</td>\n",
       "    </tr>\n",
       "    <tr>\n",
       "      <th>3</th>\n",
       "      <td>Le réseau SFR est catastrophique à Marseille...</td>\n",
       "      <td>Marseille</td>\n",
       "      <td>LOC</td>\n",
       "      <td>0.995413</td>\n",
       "      <td>NEGATIVE</td>\n",
       "      <td>0.955451</td>\n",
       "    </tr>\n",
       "    <tr>\n",
       "      <th>4</th>\n",
       "      <td>Orange propose enfin la 5G à Paris.</td>\n",
       "      <td>Orange</td>\n",
       "      <td>ORG</td>\n",
       "      <td>0.990817</td>\n",
       "      <td>POSITIVE</td>\n",
       "      <td>0.648676</td>\n",
       "    </tr>\n",
       "  </tbody>\n",
       "</table>\n",
       "</div>"
      ]
     },
     "execution_count": 6,
     "metadata": {},
     "output_type": "execute_result"
    }
   ],
   "execution_count": 6
  },
  {
   "cell_type": "code",
   "id": "70e10457",
   "metadata": {
    "ExecuteTime": {
     "end_time": "2025-09-02T09:30:40.851858Z",
     "start_time": "2025-09-02T09:30:40.844766Z"
    }
   },
   "source": [
    "output_path = \"../results/ner_entities_with_sentiment.csv\"\n",
    "df.to_csv(output_path, index=False)\n",
    "output_path"
   ],
   "outputs": [
    {
     "data": {
      "text/plain": [
       "'../results/ner_entities_with_sentiment.csv'"
      ]
     },
     "execution_count": 8,
     "metadata": {},
     "output_type": "execute_result"
    }
   ],
   "execution_count": 8
  },
  {
   "cell_type": "code",
   "id": "944895eb",
   "metadata": {
    "ExecuteTime": {
     "end_time": "2025-09-02T09:30:53.188794Z",
     "start_time": "2025-09-02T09:30:53.170597Z"
    }
   },
   "source": [
    "(\n",
    "    df.groupby([\"entity\", \"label\"]).size()\n",
    "      .reset_index(name=\"count\")\n",
    "      .sort_values(\"count\", ascending=False)\n",
    ")"
   ],
   "outputs": [
    {
     "data": {
      "text/plain": [
       "             entity label  count\n",
       "0                5G  MISC      1\n",
       "1  Bouygues Telecom   ORG      1\n",
       "2              Free   ORG      1\n",
       "3              Lyon   LOC      1\n",
       "4         Marseille   LOC      1\n",
       "5            Orange   ORG      1\n",
       "6             Paris   LOC      1\n",
       "7               SFR   ORG      1"
      ],
      "text/html": [
       "<div>\n",
       "<style scoped>\n",
       "    .dataframe tbody tr th:only-of-type {\n",
       "        vertical-align: middle;\n",
       "    }\n",
       "\n",
       "    .dataframe tbody tr th {\n",
       "        vertical-align: top;\n",
       "    }\n",
       "\n",
       "    .dataframe thead th {\n",
       "        text-align: right;\n",
       "    }\n",
       "</style>\n",
       "<table border=\"1\" class=\"dataframe\">\n",
       "  <thead>\n",
       "    <tr style=\"text-align: right;\">\n",
       "      <th></th>\n",
       "      <th>entity</th>\n",
       "      <th>label</th>\n",
       "      <th>count</th>\n",
       "    </tr>\n",
       "  </thead>\n",
       "  <tbody>\n",
       "    <tr>\n",
       "      <th>0</th>\n",
       "      <td>5G</td>\n",
       "      <td>MISC</td>\n",
       "      <td>1</td>\n",
       "    </tr>\n",
       "    <tr>\n",
       "      <th>1</th>\n",
       "      <td>Bouygues Telecom</td>\n",
       "      <td>ORG</td>\n",
       "      <td>1</td>\n",
       "    </tr>\n",
       "    <tr>\n",
       "      <th>2</th>\n",
       "      <td>Free</td>\n",
       "      <td>ORG</td>\n",
       "      <td>1</td>\n",
       "    </tr>\n",
       "    <tr>\n",
       "      <th>3</th>\n",
       "      <td>Lyon</td>\n",
       "      <td>LOC</td>\n",
       "      <td>1</td>\n",
       "    </tr>\n",
       "    <tr>\n",
       "      <th>4</th>\n",
       "      <td>Marseille</td>\n",
       "      <td>LOC</td>\n",
       "      <td>1</td>\n",
       "    </tr>\n",
       "    <tr>\n",
       "      <th>5</th>\n",
       "      <td>Orange</td>\n",
       "      <td>ORG</td>\n",
       "      <td>1</td>\n",
       "    </tr>\n",
       "    <tr>\n",
       "      <th>6</th>\n",
       "      <td>Paris</td>\n",
       "      <td>LOC</td>\n",
       "      <td>1</td>\n",
       "    </tr>\n",
       "    <tr>\n",
       "      <th>7</th>\n",
       "      <td>SFR</td>\n",
       "      <td>ORG</td>\n",
       "      <td>1</td>\n",
       "    </tr>\n",
       "  </tbody>\n",
       "</table>\n",
       "</div>"
      ]
     },
     "execution_count": 9,
     "metadata": {},
     "output_type": "execute_result"
    }
   ],
   "execution_count": 9
  }
 ],
 "metadata": {
  "kernelspec": {
   "name": "python3",
   "language": "python",
   "display_name": "Python 3 (ipykernel)"
  }
 },
 "nbformat": 4,
 "nbformat_minor": 5
}
